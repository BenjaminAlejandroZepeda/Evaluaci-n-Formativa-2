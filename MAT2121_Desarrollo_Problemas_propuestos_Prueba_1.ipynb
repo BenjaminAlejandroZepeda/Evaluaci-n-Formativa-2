{
 "cells": [
  {
   "cell_type": "code",
   "execution_count": 2,
   "id": "bd14c3a5",
   "metadata": {},
   "outputs": [],
   "source": [
    "import numpy as np \n",
    "import matplotlib.pyplot as plt \n",
    "from scipy.optimize import fsolve "
   ]
  },
  {
   "cell_type": "markdown",
   "id": "1220995e",
   "metadata": {},
   "source": [
    "# Problema 1\n",
    "\n",
    "El consumo de energía de una máquina industrial (en kWh) puede ser modelado mediante la función:\n",
    "\n",
    "$$ C(t)=−0.4t^2+4t+10$$ \n",
    "\n",
    "\n",
    "\n",
    "donde \n",
    "\n",
    "t corresponde al tiempo transcurrido (en horas) durante la jornada laboral. Considere que la jornada laboral comienza a las 07:00 horas y termina a las 16:00 horas.\n",
    "\n",
    "* 1) Defina variable dependiente e independiente, indicando unidad de medida.\n",
    "* 2) Determine el dominio contextualizado del problema.\n",
    "* 3) Grafique la función utilizando Python.\n",
    "* 4) Mediante un análisis gráfico, estime cuándo la máquina alcanza su máximo consumo de energía y calcule cuánto es.\n",
    "* 5) Determine el consumo de energía de la máquina a las 12:00 horas y al finalizar la jornada laboral.\n",
    "* 6) Si el consumo de energía fue de 14 Kw, a que hora se produjo dicho consumo dentro de su dominio contextualizado?\n"
   ]
  },
  {
   "cell_type": "markdown",
   "id": "82bab511",
   "metadata": {},
   "source": [
    "##  Apartado (1.1)\n",
    "\n",
    "* Variable independiente: Tiempo (horas)\n",
    "* Variable dependiente: Consumo energetico (KwH)"
   ]
  },
  {
   "cell_type": "markdown",
   "id": "97af73b3",
   "metadata": {},
   "source": [
    "## Apartado (1.2)"
   ]
  },
  {
   "cell_type": "code",
   "execution_count": 23,
   "id": "3be1f1d7",
   "metadata": {},
   "outputs": [
    {
     "name": "stdout",
     "output_type": "stream",
     "text": [
      "[7, 8, 9, 10, 11, 12, 13, 14, 15, 16]\n",
      "[0, 1, 2, 3, 4, 5, 6, 7, 8, 9]\n"
     ]
    }
   ],
   "source": [
    "t = [k for k in range(7,17)]\n",
    "dom = []\n",
    "for k in t:\n",
    "    \n",
    "    dom.append(k-7)\n",
    "print(t)\n",
    "\n",
    "\"\"\"El dominio contextualizado es la cantidad de horas que la maquina estuvo funcionando\"\"\"\n",
    "print(dom) \n",
    "\n",
    "\"\"\"CONVERTIDOR\"\"\"\n",
    "\n",
    "def conv(elem):\n",
    "    \n",
    "    return (elem -7)"
   ]
  },
  {
   "cell_type": "markdown",
   "id": "e437b663",
   "metadata": {},
   "source": [
    "El dominio contextualizado son todos los valores que estan en el intervalo de 0 a 9, esto es:\n",
    "\n",
    "$ Dom_{c}  \\in[0,9]$"
   ]
  },
  {
   "cell_type": "markdown",
   "id": "38297020",
   "metadata": {},
   "source": [
    "## Apartado (1.3)"
   ]
  },
  {
   "cell_type": "code",
   "execution_count": 1,
   "id": "4533df44",
   "metadata": {},
   "outputs": [],
   "source": [
    "def C(t): \n",
    "    \n",
    "    return -0.4*t**2 + 4*t + 10 "
   ]
  },
  {
   "cell_type": "code",
   "execution_count": 35,
   "id": "59c2d2a8",
   "metadata": {},
   "outputs": [
    {
     "data": {
      "image/png": "[encoded data removed]",
      "text/plain": [
       "<Figure size 576x432 with 1 Axes>"
      ]
     },
     "metadata": {
      "needs_background": "light"
     },
     "output_type": "display_data"
    }
   ],
   "source": [
    "plt.figure(figsize = (8,6))\n",
    "\n",
    "dist = np.linspace(0,9, 100)\n",
    "plt.plot(dist, C(dist))\n",
    "plt.xlabel(\"Tiempo (Horas)\")\n",
    "plt.ylabel(\"Consumo energetico (KWh)\")\n",
    "plt.title(\"Consumo de energía en el tiempo\")\n",
    "plt.xticks(np.arange(0,10,1))\n",
    "plt.grid(True)\n",
    "plt.show()"
   ]
  },
  {
   "cell_type": "markdown",
   "id": "46d0f867",
   "metadata": {},
   "source": [
    "## Apartado (1.4)\n",
    "\n",
    "De acuerdo al análisis gráfico, se puede concluir que el máximo consumo energético se produce a las 5 horas de funcionamiento"
   ]
  },
  {
   "cell_type": "code",
   "execution_count": 17,
   "id": "f7c07b40",
   "metadata": {},
   "outputs": [],
   "source": [
    "def vertice(a,b):\n",
    "    \n",
    "    x = -b/(2*a)\n",
    "    y = C(x)\n",
    "    \n",
    "    return f\"el maximo consumo se produce en {x} horas  y fue de {y} KWh\""
   ]
  },
  {
   "cell_type": "code",
   "execution_count": 20,
   "id": "6036ac03",
   "metadata": {},
   "outputs": [
    {
     "data": {
      "text/plain": [
       "'el maximo consumo se produce en 5.0 horas  y fue de 20.0 KWh'"
      ]
     },
     "execution_count": 20,
     "metadata": {},
     "output_type": "execute_result"
    }
   ],
   "source": [
    "vertice(-0.4,4)"
   ]
  },
  {
   "cell_type": "markdown",
   "id": "1a72980d",
   "metadata": {},
   "source": [
    "## Apartado (1.5)"
   ]
  },
  {
   "cell_type": "code",
   "execution_count": 32,
   "id": "4093d080",
   "metadata": {},
   "outputs": [
    {
     "name": "stdout",
     "output_type": "stream",
     "text": [
      "el consumo a las 12 hrs fue de 20.0 Kw\n",
      "el consumo al finalizar la jornada fue de 13.60 Kw\n"
     ]
    }
   ],
   "source": [
    "print(f\"el consumo a las 12 hrs fue de {C(conv(12))} Kw\")\n",
    "print(f\"el consumo al finalizar la jornada fue de {C(conv(16)):.2f} Kw\")"
   ]
  },
  {
   "cell_type": "markdown",
   "id": "e19116c1",
   "metadata": {},
   "source": [
    "## Apartado (1.6)"
   ]
  },
  {
   "cell_type": "code",
   "execution_count": 38,
   "id": "d4fa1efd",
   "metadata": {},
   "outputs": [
    {
     "name": "stdout",
     "output_type": "stream",
     "text": [
      "El tiempo que se produjo el consumo energetico de 14 Kwh fue : 1.13 horas\n"
     ]
    }
   ],
   "source": [
    "def c(t): \n",
    "    \n",
    "    return -0.4*t**2 + 4*t + 10 - 14\n",
    "\n",
    "sol = fsolve(c, 2)\n",
    "\n",
    "\n",
    "print(f\"El tiempo que se produjo el consumo energetico de 14 Kwh fue : {sol[0]:.2f} horas\")"
   ]
  },
  {
   "cell_type": "markdown",
   "id": "dbda5283",
   "metadata": {},
   "source": [
    "# Problema 2"
   ]
  },
  {
   "cell_type": "markdown",
   "id": "c27b211f",
   "metadata": {},
   "source": [
    "La velocidad de transferencia de datos (en megabytes por segundo, MB/s) a través de una red puede ser modelada mediante la función:\n",
    "\n",
    "$$V(t)= \\frac{100}{1 + 7e^{-0.4t}}$$ \n",
    " \n",
    "\n",
    "donde \n",
    "\n",
    "t corresponde al tiempo transcurrido (en segundos) desde que se inicia una transferencia de archivos.\n",
    "\n",
    "* 1) Defina la variable dependiente e independiente, indicando la unidad de medida.\n",
    "* 2) Determine la velocidad de transferencia a los 10 segundos.\n",
    "* 3) Grafique la función, utilizando la librería Matplotlib, para los primeros 30 segundos de transferencia.\n",
    "* 4) ¿Cuánto tiempo debe pasar para que la velocidad de transferencia llegue a 90 MB/s?\n",
    "\n",
    "\n"
   ]
  },
  {
   "cell_type": "markdown",
   "id": "172df5cb",
   "metadata": {},
   "source": [
    "## Apartado (2.1)\n",
    "\n",
    "* Variable independiente: Tiempo (s)\n",
    "* Variable dependiente: Velocidad de transferencia (mb)"
   ]
  },
  {
   "cell_type": "markdown",
   "id": "efc79b33",
   "metadata": {},
   "source": [
    "## Apartado (2.1)\n"
   ]
  },
  {
   "cell_type": "code",
   "execution_count": 44,
   "id": "5e5bef52",
   "metadata": {},
   "outputs": [
    {
     "name": "stdout",
     "output_type": "stream",
     "text": [
      "La velocidad de transferecia a los 10 seg fue de: 88.64 mb por segundo\n"
     ]
    }
   ],
   "source": [
    "def V(t): \n",
    "    \n",
    "    return 100/(1 + 7*np.exp(-0.4*t))\n",
    "\n",
    "print(f\"La velocidad de transferecia a los 10 seg fue de: {V(10):.2f} mb por segundo\")"
   ]
  },
  {
   "cell_type": "markdown",
   "id": "5a9ad9e6",
   "metadata": {},
   "source": [
    "## Apartado (2.3)"
   ]
  },
  {
   "cell_type": "code",
   "execution_count": 50,
   "id": "025d4d5b",
   "metadata": {},
   "outputs": [
    {
     "data": {
      "image/png": "[encoded data removed]",
      "text/plain": [
       "<Figure size 576x432 with 1 Axes>"
      ]
     },
     "metadata": {
      "needs_background": "light"
     },
     "output_type": "display_data"
    }
   ],
   "source": [
    "plt.figure(figsize =(8,6))\n",
    "\n",
    "\n",
    "dist_1 = np.linspace(0,20, 100)\n",
    "plt.plot(dist_1, V(dist_1))\n",
    "plt.grid(True)"
   ]
  },
  {
   "cell_type": "markdown",
   "id": "6f2e2965",
   "metadata": {},
   "source": [
    "## Apartado (2.4)"
   ]
  },
  {
   "cell_type": "code",
   "execution_count": 55,
   "id": "6f6ac53f",
   "metadata": {},
   "outputs": [
    {
     "name": "stdout",
     "output_type": "stream",
     "text": [
      "para llegar a una velocidad de 90 mbs deben pasar: 10.358 seg aproximadamente\n"
     ]
    }
   ],
   "source": [
    "def v(t):\n",
    "    \n",
    "    return 100/(1 + 7*np.exp(-0.4*t)) - 90\n",
    "\n",
    "sol_2 = fsolve(v, 20)\n",
    "\n",
    "print(f\"para llegar a una velocidad de 90 mbs deben pasar: {sol_2[0]:.3f} seg aproximadamente\")"
   ]
  },
  {
   "cell_type": "markdown",
   "id": "b0c31573",
   "metadata": {},
   "source": [
    "# Problema 3"
   ]
  },
  {
   "cell_type": "markdown",
   "id": "47f92466",
   "metadata": {},
   "source": [
    "Un equipo de ingenieros está monitoreando el consumo de electricidad en una fábrica durante diferentes horas del día. Han registrado el tiempo que tomó consumir la electricidad y la cantidad de electricidad consumida (en kWh) en la siguiente tabla de datos:\n",
    "\n",
    "<p><center>\n",
    "\n",
    "|Electricidad consumida (Kwh) | Tiempo de consumo (Horas)|\n",
    "|------------------------|------------------------------|\n",
    "|$$30$$                   |$$1$$                        |\n",
    "|$$60$$                  |$$2$$                        |\n",
    "|$$150$$                  |$$5$$                        |\n",
    "|$$300$$                  |$$10$$                       |\n",
    "|$$600$$                 |$$20$$                       |\n",
    "\n",
    "</center></p>\n",
    "\n",
    "\n",
    "* 1) Defina cuál es la variable dependiente y cuál es la variable independiente, e indique sus unidades de medida.\n",
    "* 2) Utilizando la función polyfit de Numpy, encuentra la función que modela el tiempo de consumo $C(t)$ en función de la electricidad consumida $ x $\n",
    "* 3) Interprete la pendiente en el contexto del problema, ¿qué significa en relación al consumo de electricidad?\n",
    "* 4) Grafique la función $T(x)$\n",
    "* 5) ¿Cuánto tiempo tomaría consumir 435 kWh de electricidad?\n"
   ]
  },
  {
   "cell_type": "markdown",
   "id": "8a20b408",
   "metadata": {},
   "source": [
    "## Apartado (3.1)"
   ]
  },
  {
   "cell_type": "markdown",
   "id": "59239c89",
   "metadata": {},
   "source": [
    "* Variable independiente: Tiempo (Horas)\n",
    "* Variable dependiente: Electricidad consumida (KWh)"
   ]
  },
  {
   "cell_type": "markdown",
   "id": "b86ddac8",
   "metadata": {},
   "source": [
    "## Apartado (3.2)"
   ]
  },
  {
   "cell_type": "code",
   "execution_count": 11,
   "id": "c8f4a23b",
   "metadata": {},
   "outputs": [
    {
     "name": "stdout",
     "output_type": "stream",
     "text": [
      "La pendiente es: 30\n",
      "El coeficiente de posicion es: 0.000000\n",
      "el polinomio es:  \n",
      "30 x + 5.084e-14\n"
     ]
    }
   ],
   "source": [
    "tiempo = np.array([1,2,5,10,20])\n",
    "consumo = np.array([30,60,150,300,600])\n",
    "\n",
    "\n",
    "m,b = np.polyfit(tiempo, consumo, 1)\n",
    "\n",
    "print(f\"La pendiente es: {m:.0f}\")\n",
    "print(f\"El coeficiente de posicion es: {b:0f}\")\n",
    "\n",
    "polinomio = np.poly1d(np.polyfit(tiempo, consumo, 1))\n",
    "print(f\"el polinomio es: {polinomio}\")\n",
    "\n",
    "\n",
    "def C(t): \n",
    "    \n",
    "    return m*t + b"
   ]
  },
  {
   "cell_type": "markdown",
   "id": "ff7ac709",
   "metadata": {},
   "source": [
    "## Apartado (3.3)"
   ]
  },
  {
   "cell_type": "markdown",
   "id": "1b4a59cb",
   "metadata": {},
   "source": [
    "* Por cada hora que pasa el consumo de energía aumenta en 30 kw"
   ]
  },
  {
   "cell_type": "markdown",
   "id": "123be0d3",
   "metadata": {},
   "source": [
    "## Apartado (3.4)\n"
   ]
  },
  {
   "cell_type": "code",
   "execution_count": 16,
   "id": "f9d67ece",
   "metadata": {},
   "outputs": [
    {
     "data": {
      "image/png": "[encoded data removed]",
      "text/plain": [
       "<Figure size 576x432 with 1 Axes>"
      ]
     },
     "metadata": {
      "needs_background": "light"
     },
     "output_type": "display_data"
    }
   ],
   "source": [
    "plt.figure(figsize = (8,6))\n",
    "\n",
    "dist_3 = np.linspace(tiempo.min(), tiempo.max(), 100)\n",
    "plt.plot(tiempo, consumo, 'o', color = \"red\")\n",
    "plt.plot(dist_3, C(dist_3), label = \"Funcion interpolante\")\n",
    "plt.xlabel(\"Tiempo (Horas)\")\n",
    "plt.ylabel(\"Consumo de energía (Kwh)\")\n",
    "plt.title(\"Consumo de energía en el tiempo\")\n",
    "plt.grid(True)\n",
    "plt.legend(frameon = True, shadow=True)\n",
    "plt.show()"
   ]
  },
  {
   "cell_type": "markdown",
   "id": "b6efaaba",
   "metadata": {},
   "source": [
    "## Apartado (3.5)\n",
    "\n",
    "* Forma algebraica \n",
    "\n",
    "$ C(t) = 435 $ \n",
    "\n",
    "$ 30 x = 435 $ \n",
    "\n",
    "$ x = 435/ 30 $ \n",
    "\n",
    "\n",
    "* redefinimos la funcion (fsolve)\n",
    "\n",
    "$ C(t) - 435 = 0$ \n"
   ]
  },
  {
   "cell_type": "code",
   "execution_count": 19,
   "id": "00185df5",
   "metadata": {},
   "outputs": [
    {
     "name": "stdout",
     "output_type": "stream",
     "text": [
      "El consumo de energía de 435 Kw se produce a las 14.5 horas aproximadamente \n"
     ]
    }
   ],
   "source": [
    "def c(t): \n",
    "    \n",
    "    return 30*t - 435\n",
    "\n",
    "sol_3 = fsolve(c, 12)\n",
    "\n",
    "print(f\"El consumo de energía de 435 Kw se produce a las {sol_3[0]} horas aproximadamente \")"
   ]
  },
  {
   "cell_type": "markdown",
   "id": "76c2b7d5",
   "metadata": {},
   "source": [
    "# Problema 4"
   ]
  },
  {
   "cell_type": "markdown",
   "id": "546384ac",
   "metadata": {},
   "source": [
    "El costo de produccioón $H(x) $  (en Dolares) para producir $x$  artículos en una fábrica está dado por la función lineal:\n",
    "\n",
    "$ H(x) = 15x + 10$\n",
    "\n",
    "\n",
    "* 1) Determina cuál es la variable dependiente y cuál es la variable independiente, indicando sus unidades de medida.\n",
    "* 2) Identifica e interpreta la pendiente de la función en el contexto del problema.\n",
    "* 3) ¿Cuál es el costo total cuando no se produce ningún artículo?, ¿como se podría interpretar este valor?\n",
    "* 4) Utiliza Python para determinar cuántos artículos se pueden producir si el costo total es de 475 dólares."
   ]
  },
  {
   "cell_type": "markdown",
   "id": "53430786",
   "metadata": {},
   "source": [
    "## Apartado (4.1)\n",
    "\n",
    "* Variable independiente: Articulos producidos (Unidades)\n",
    "* Variable dependiente: Costo de producción (Dolares)"
   ]
  },
  {
   "cell_type": "markdown",
   "id": "a246b13c",
   "metadata": {},
   "source": [
    "## Apartado (4.2)\n",
    "\n",
    "* Por cada artículo que se fabrique el costo aumenta en 15 dolares"
   ]
  },
  {
   "cell_type": "markdown",
   "id": "7b9f3124",
   "metadata": {},
   "source": [
    "## Apartado (4.3)\n",
    "\n",
    "$ H(0) = 15*0 + 10$\n",
    "\n",
    "$ H(0) = 10 $\n",
    "\n",
    "* Notamos que el costo cuando no se produce ningun articulo es 10, basta evaluar la funcion en $ x = 0 $ o bien notar que el coeficnete de posicion es el intercepto de la recta con el eje y, es decir, cuando $ x = 0$. \n",
    "\n",
    "* Por otro lado, dicho falor se interpreta como un costo fijo, un costo no relacionado directamente a la producción"
   ]
  },
  {
   "cell_type": "markdown",
   "id": "807edbea",
   "metadata": {},
   "source": [
    "## Apartado (4.4)\n",
    "\n",
    "$ H(x) = 475 $\n",
    "\n",
    "$ H(x) - 475 = 0$ \n",
    "\n",
    "* Esto es lo que debemos resolver con fsolve\n",
    "* Para ello primero vamos a graficar la función"
   ]
  },
  {
   "cell_type": "code",
   "execution_count": 31,
   "id": "889fe140",
   "metadata": {},
   "outputs": [
    {
     "data": {
      "image/png": "[encoded data removed]",
      "text/plain": [
       "<Figure size 576x432 with 1 Axes>"
      ]
     },
     "metadata": {
      "needs_background": "light"
     },
     "output_type": "display_data"
    }
   ],
   "source": [
    "def H(x): \n",
    "    \n",
    "    \n",
    "    return 15*x + 10 \n",
    "\n",
    "plt.figure(figsize = (8,6))\n",
    "dist_4 = np.linspace(1,40, 100)\n",
    "plt.plot(dist_4, H(dist_4), label = \"funcion de costo\")\n",
    "plt.xlabel(\"Articulos (Unidades)\")\n",
    "plt.ylabel(\"Costo (Dolares)\")\n",
    "plt.title(\"Costo de producción\")\n",
    "plt.grid(True)\n",
    "plt.legend(frameon = True, shadow = True)\n",
    "plt.show()"
   ]
  },
  {
   "cell_type": "code",
   "execution_count": 35,
   "id": "596713d2",
   "metadata": {},
   "outputs": [
    {
     "name": "stdout",
     "output_type": "stream",
     "text": [
      "La cantidad de artículos que de seben producir para tener un costo de 475 dolares es de 31 artículos aproximadamente\n"
     ]
    }
   ],
   "source": [
    "def h(x): \n",
    "    \n",
    "    return 15*x + 10 - 475\n",
    "\n",
    "sol_4 = fsolve(h, 20)\n",
    "print(f\"La cantidad de artículos que de seben producir para tener un costo de 475 dolares es de {sol_4[0]:.0f} artículos aproximadamente\")"
   ]
  },
  {
   "cell_type": "markdown",
   "id": "df92dc95",
   "metadata": {},
   "source": [
    "# Problema 5"
   ]
  },
  {
   "cell_type": "markdown",
   "id": "5d6f1ac5",
   "metadata": {},
   "source": [
    "En un circuito de pruebas, dos vehículos autónomos están siendo monitoreados para estudiar su velocidad en función del tiempo que llevan circulando. Las funciones $v1(t)$  y $v2(t)$ que describen la velocidad de los vehículos en kilómetros por hora (km/h), están dadas por:\n",
    "\n",
    "\n",
    "$ v1(t) = \\sqrt{20t + 150}$\n",
    "\n",
    "$ v2(t) = \\sqrt{30t + 100}$\n",
    "\n",
    "donde $t$ es el tiempo transcurrido en minutos.\n",
    "\n",
    "\n",
    "* 1) Graficar ambas funciones en un mismo grafico. \n",
    "* 2) Determinar el tiempo en que ambos vehículos poseen la misma velocidad\n"
   ]
  },
  {
   "cell_type": "markdown",
   "id": "12920cf7",
   "metadata": {},
   "source": [
    "## Apartado (5.1)"
   ]
  },
  {
   "cell_type": "code",
   "execution_count": 53,
   "id": "6f67e948",
   "metadata": {},
   "outputs": [
    {
     "data": {
      "image/png": "[encoded data removed]",
      "text/plain": [
       "<Figure size 576x432 with 1 Axes>"
      ]
     },
     "metadata": {
      "needs_background": "light"
     },
     "output_type": "display_data"
    }
   ],
   "source": [
    "def v1(t): \n",
    "    \n",
    "    return np.sqrt(20*t + 150)\n",
    "\n",
    "def v2(t): \n",
    "    \n",
    "    return np.sqrt(30*t + 100)\n",
    "\n",
    "\n",
    "\n",
    "\"\"\"GRAFICA\"\"\"\n",
    "\n",
    "plt.figure(figsize = (8,6))\n",
    "dist_5 = np.linspace(0,30,100)\n",
    "plt.plot(dist_5, v1(dist_5), label = \"v1\")\n",
    "plt.plot(dist_5, v2(dist_5), label = \"v2\")\n",
    "plt.xlabel(\"Tiempo (Horas)\")\n",
    "plt.ylabel(\"Velocidad (Km/h)\")\n",
    "plt.title(\"grafico de velocidades\")\n",
    "plt.legend(frameon = True, shadow = True)\n",
    "plt.grid(True)"
   ]
  },
  {
   "cell_type": "markdown",
   "id": "689d1752",
   "metadata": {},
   "source": [
    "## Apartado (5.2)"
   ]
  },
  {
   "cell_type": "markdown",
   "id": "d8b218dd",
   "metadata": {},
   "source": [
    "$ v1(t) = v2(t) $ \n",
    "\n",
    "\n",
    "$ v1(t) - v2(t) = 0$ \n",
    "\n",
    "por tanto: \n",
    "\n",
    "$ v(t) = v1(t) - v2(t)$\n",
    "\n",
    "* Redefiniendo la función podemos aplicar fsolve"
   ]
  },
  {
   "cell_type": "code",
   "execution_count": 49,
   "id": "ed7e163a",
   "metadata": {},
   "outputs": [
    {
     "name": "stdout",
     "output_type": "stream",
     "text": [
      "Cuando han pasado 5.0 horas, la velocidad de ambos vehículos serán iguales\n"
     ]
    }
   ],
   "source": [
    "def v(t): \n",
    "    \n",
    "    return v1(t) - v2(t)\n",
    "\n",
    "\n",
    "sol_5 = fsolve(v, 5)\n",
    "\n",
    "print(f\"Cuando han pasado {sol_5[0]} horas, la velocidad de ambos vehículos serán iguales\")"
   ]
  },
  {
   "cell_type": "code",
   "execution_count": null,
   "id": "1b14c86d",
   "metadata": {},
   "outputs": [],
   "source": []
  }
 ],
 "metadata": {
  "kernelspec": {
   "display_name": "Python 3 (ipykernel)",
   "language": "python",
   "name": "python3"
  },
  "language_info": {
   "codemirror_mode": {
    "name": "ipython",
    "version": 3
   },
   "file_extension": ".py",
   "mimetype": "text/x-python",
   "name": "python",
   "nbconvert_exporter": "python",
   "pygments_lexer": "ipython3",
   "version": "3.9.12"
  }
 },
 "nbformat": 4,
 "nbformat_minor": 5
}
